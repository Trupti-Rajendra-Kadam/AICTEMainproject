{
 "cells": [
  {
   "cell_type": "markdown",
   "id": "af847137",
   "metadata": {},
   "source": [
    "# AICTE Mini Project"
   ]
  },
  {
   "cell_type": "markdown",
   "id": "180296a6",
   "metadata": {},
   "source": [
    "# Develop a desktop application - Basic arithmetic calculator which performs addition, subtraction, multiplication, division and mod operation using GUI.¶"
   ]
  },
  {
   "cell_type": "markdown",
   "id": "6cd825b1",
   "metadata": {},
   "source": [
    "To develop a basic arithmetic calculator desktop application with a GUI, you can use a programming language like Python and a library like Tkinter. Tkinter is a standard GUI library for Python and makes it easy to create graphical user interfaces. Here's a step-by-step guide on how to create the application:\n",
    "\n",
    "Setup:\n",
    "Make sure you have Python installed on your computer. You can download it from the official Python website: https://www.python.org/downloads/\n",
    "\n",
    "Install Tkinter:\n",
    "Tkinter is usually included with Python, so you don't need to install it separately.\n",
    "\n",
    "Code Implementation:\n",
    "Create a new Python script (e.g., calculator_app.py) and use the following code as a starting point:"
   ]
  },
  {
   "cell_type": "code",
   "execution_count": null,
   "id": "bce6b884",
   "metadata": {},
   "outputs": [],
   "source": [
    "import tkinter as tk\n",
    "from tkinter import messagebox\n",
    "\n",
    "# Function to perform calculations\n",
    "def calculate():\n",
    "    try:\n",
    "        num1 = float(entry_num1.get())\n",
    "        num2 = float(entry_num2.get())\n",
    "        operator = operator_var.get()\n",
    "\n",
    "        if operator == '+':\n",
    "            result = num1 + num2\n",
    "        elif operator == '-':\n",
    "            result = num1 - num2\n",
    "        elif operator == '*':\n",
    "            result = num1 * num2\n",
    "        elif operator == '/':\n",
    "            result = num1 / num2\n",
    "        elif operator == '%':\n",
    "            result = num1 % num2\n",
    "        else:\n",
    "            result = \"Invalid operator\"\n",
    "\n",
    "        result_label.config(text=\"Result: \" + str(result))\n",
    "    except ValueError:\n",
    "        messagebox.showerror(\"Error\", \"Please enter valid numbers.\")\n",
    "\n",
    "# Create the main window\n",
    "root = tk.Tk()\n",
    "root.title(\"Basic Calculator\")\n",
    "\n",
    "# Create input fields\n",
    "entry_num1 = tk.Entry(root)\n",
    "entry_num1.pack()\n",
    "\n",
    "operator_var = tk.StringVar()\n",
    "operator_var.set('+')  # Default operator\n",
    "operator_menu = tk.OptionMenu(root, operator_var, '+', '-', '*', '/', '%')\n",
    "operator_menu.pack()\n",
    "\n",
    "entry_num2 = tk.Entry(root)\n",
    "entry_num2.pack()\n",
    "\n",
    "# Create Calculate button\n",
    "calculate_button = tk.Button(root, text=\"Calculate\", command=calculate)\n",
    "calculate_button.pack()\n",
    "\n",
    "# Create result label\n",
    "result_label = tk.Label(root, text=\"Result:\")\n",
    "result_label.pack()\n",
    "\n",
    "# Start the GUI event loop\n",
    "root.mainloop()\n"
   ]
  },
  {
   "cell_type": "markdown",
   "id": "ce8724df",
   "metadata": {},
   "source": [
    "Run the Application:\n",
    "Open a terminal or command prompt, navigate to the folder where you saved calculator_app.py, and run the following command:"
   ]
  },
  {
   "cell_type": "markdown",
   "id": "c986e357",
   "metadata": {},
   "source": [
    "python calculator_app.py\n"
   ]
  },
  {
   "cell_type": "markdown",
   "id": "e632dc24",
   "metadata": {},
   "source": [
    "python calculator_app.py\n",
    "Using the Application:\n",
    "The application will open with input fields for two numbers and a dropdown menu to select the operation. Enter the numbers, select the operation, and click the \"Calculate\" button to see the result displayed below.\n",
    "\n",
    "This example provides a basic implementation of a calculator application using Tkinter. You can further enhance the application by adding error handling for division by zero and improving the overall layout and design. Additionally, you can add more advanced features like decimal calculations, square roots, and memory functions."
   ]
  },
  {
   "cell_type": "code",
   "execution_count": null,
   "id": "720fc7e3",
   "metadata": {},
   "outputs": [],
   "source": []
  }
 ],
 "metadata": {
  "kernelspec": {
   "display_name": "Python 3 (ipykernel)",
   "language": "python",
   "name": "python3"
  },
  "language_info": {
   "codemirror_mode": {
    "name": "ipython",
    "version": 3
   },
   "file_extension": ".py",
   "mimetype": "text/x-python",
   "name": "python",
   "nbconvert_exporter": "python",
   "pygments_lexer": "ipython3",
   "version": "3.9.7"
  }
 },
 "nbformat": 4,
 "nbformat_minor": 5
}
